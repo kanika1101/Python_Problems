{
 "cells": [
  {
   "cell_type": "code",
   "execution_count": 2,
   "metadata": {},
   "outputs": [
    {
     "name": "stdout",
     "output_type": "stream",
     "text": [
      "[5,6,7,8]\n",
      "6\n",
      "1\n"
     ]
    }
   ],
   "source": [
    "#linear search\n",
    "#[2,3,5,1,30]\n",
    "import ast\n",
    "data_list=ast.literal_eval(input())\n",
    "key=int(input())\n",
    "[2,3,5,1,30]\n",
    "\n",
    "found = -1\n",
    "i=0\n",
    "while i<(len(data_list)) and found==-1:\n",
    "    if data_list[i] == key:\n",
    "        found = i\n",
    "        break\n",
    "    i+=1\n",
    "print(found)\n"
   ]
  },
  {
   "cell_type": "code",
   "execution_count": 8,
   "metadata": {},
   "outputs": [
    {
     "name": "stdout",
     "output_type": "stream",
     "text": [
      "[3, 5, 7, 9, 11, 13, 15, 17, 19, 21, 23, 25, 27]\n",
      "17\n",
      "l = 0, r=12\n",
      "7\n"
     ]
    }
   ],
   "source": [
    "#binary search\n",
    "import ast\n",
    "sorted_list= ast.literal_eval(input())\n",
    "key=int(input())\n",
    "\n",
    "l = 0\n",
    "r = len(sorted_list)-1\n",
    "\n",
    "index = -1\n",
    "while(l<=r):\n",
    "    mid=(r+l)//2\n",
    "    if sorted_list[mid]==key:\n",
    "        index = mid\n",
    "        break\n",
    "        \n",
    "    elif sorted_list[mid]>key:\n",
    "        r=mid-1\n",
    "    else:\n",
    "        l=mid+1\n",
    "        \n",
    "print(index)"
   ]
  },
  {
   "cell_type": "code",
   "execution_count": 14,
   "metadata": {},
   "outputs": [
    {
     "name": "stdout",
     "output_type": "stream",
     "text": [
      "[3, 5, 7, 9, 11, 13, 15, 17, 19, 21, 23, 25, 27]\n",
      "20\n",
      "-1\n"
     ]
    }
   ],
   "source": [
    "#rotated list binary search\n",
    "import ast\n",
    "data= ast.literal_eval(input())\n",
    "key=int(input())\n",
    "\n",
    "l=0\n",
    "r=len(data)-1\n",
    "index =-1\n",
    "\n",
    "while(l<=r):\n",
    "    mid = (l+r)//2\n",
    "    if data[mid]==key:\n",
    "        index = mid\n",
    "        break\n",
    "    elif data[l]<=data[mid]:\n",
    "        if key>=data[l] and key<data[mid]:\n",
    "            r=mid-1\n",
    "        else:\n",
    "            l=mid+1\n",
    "    elif data[l]>data[mid]:\n",
    "        if key>data[mid] and key<=data[r]:\n",
    "            l-mid+1\n",
    "        else:\n",
    "            r=mid-1\n",
    "print(index)"
   ]
  },
  {
   "cell_type": "code",
   "execution_count": 19,
   "metadata": {},
   "outputs": [
    {
     "name": "stdout",
     "output_type": "stream",
     "text": [
      "5\n",
      "2.2361\n"
     ]
    }
   ],
   "source": [
    "#square root  with output upto 4 decimal place\n",
    "#equation x**2 = n\n",
    "n= int(input())\n",
    "def squareroot(n):\n",
    "    l=0\n",
    "    r=n\n",
    "    while abs(l-r)>(10**(-5)):\n",
    "        mid =(l+r)/2\n",
    "        if mid**2>n:\n",
    "            r = mid\n",
    "        else:\n",
    "            l=mid\n",
    "    return round(mid,4)\n",
    "\n",
    "print(\"%.4f\" % squareroot(n))"
   ]
  },
  {
   "cell_type": "code",
   "execution_count": 54,
   "metadata": {},
   "outputs": [
    {
     "name": "stdout",
     "output_type": "stream",
     "text": [
      "7\n",
      "-0.431694\n"
     ]
    }
   ],
   "source": [
    "# solve equation n**x + x = 0\n",
    "\n",
    "n= int(input())\n",
    "def equation(n):\n",
    "    l=-n\n",
    "    r=n\n",
    "    while abs(l-r)>(10**(-7)):\n",
    "        mid =(l+r)/2\n",
    "        if (n**mid+mid) >0:\n",
    "            r = mid\n",
    "        else:\n",
    "            l = mid\n",
    "    return round(mid,6)\n",
    "\n",
    "print(\"%.6f\" % equation(n))\n"
   ]
  },
  {
   "cell_type": "code",
   "execution_count": 23,
   "metadata": {},
   "outputs": [
    {
     "name": "stdout",
     "output_type": "stream",
     "text": [
      "[10,90,30,20,5,2,100]\n",
      "[2, 5, 10, 20, 30, 90, 100]\n"
     ]
    }
   ],
   "source": [
    "#insertion Soting -Time complexity O(n2)\n",
    "import ast\n",
    "data= ast.literal_eval(input())\n",
    "\n",
    "\n",
    "def insertionSort(a):\n",
    "    for i in range(1,len(a)):\n",
    "        k = data[i]\n",
    "        j=i-1\n",
    "        while a[j]>k and j>=0:\n",
    "            a[j+1] = a[j]\n",
    "            j=j-1\n",
    "        a[j+1] = k\n",
    "    return a\n",
    "\n",
    "print(insertionSort(data))"
   ]
  },
  {
   "cell_type": "code",
   "execution_count": 1,
   "metadata": {},
   "outputs": [
    {
     "name": "stdout",
     "output_type": "stream",
     "text": [
      "[10,90,30,20,5,2,100]\n",
      "[2, 5, 10, 20, 30, 90, 100]\n"
     ]
    }
   ],
   "source": [
    "#selection sorting - Time complexity O(n2)\n",
    "import ast\n",
    "data= ast.literal_eval(input())\n",
    "\n",
    "def selectionSort(a):\n",
    "    for i in range(len(a)):\n",
    "        #find minimum\n",
    "        minIndex = i\n",
    "        for j in range(i+1,len(a)):\n",
    "                if a[j]<a[minIndex]:\n",
    "                    minIndex = j\n",
    "        \n",
    "        #swap min with ith elem\n",
    "        temp = a[i]\n",
    "        a[i] = a[minIndex]\n",
    "        a[minIndex] = temp\n",
    "    return a\n",
    "\n",
    "print(selectionSort(data))"
   ]
  },
  {
   "cell_type": "code",
   "execution_count": null,
   "metadata": {},
   "outputs": [],
   "source": [
    "#Merge Sort\n",
    "import ast\n",
    "data= ast.literal_eval(input())\n",
    "\n",
    "def mergeSort(a):\n",
    "    "
   ]
  },
  {
   "cell_type": "code",
   "execution_count": 2,
   "metadata": {},
   "outputs": [
    {
     "data": {
      "text/plain": [
       "[20, 10, 15, 5, 29]"
      ]
     },
     "execution_count": 2,
     "metadata": {},
     "output_type": "execute_result"
    }
   ],
   "source": [
    "def func(x):\n",
    "     return x % 10\n",
    "\n",
    "L = [15, 20, 5, 29, 10]\n",
    "sorted(L, key = func)"
   ]
  },
  {
   "cell_type": "code",
   "execution_count": 18,
   "metadata": {},
   "outputs": [
    {
     "name": "stdout",
     "output_type": "stream",
     "text": [
      "['I', 'love', 'to', 'code', 'in', 'Python']\n",
      "['I', 'to', 'in', 'love', 'code', 'Python']\n"
     ]
    }
   ],
   "source": [
    "#built in sort with key parameter\n",
    "#Input 1:\n",
    "#['I', 'love', 'to', 'code', 'in', 'Python']\n",
    "#Output 1: sorted based on the length of the string\n",
    "#[‘I’, ‘to’, ‘in’, ‘love’, ‘code’, ‘Python’]\n",
    "import ast\n",
    " \n",
    "input_list = ast.literal_eval(input())\n",
    "def func(x):\n",
    "     return len(x)\n",
    "    \n",
    "#sorted(input_list, key=func)\n",
    "print(sorted(input_list, key=func))"
   ]
  },
  {
   "cell_type": "code",
   "execution_count": 23,
   "metadata": {},
   "outputs": [
    {
     "name": "stdout",
     "output_type": "stream",
     "text": [
      "[-1, 9, 35, 12, 13, -21, 10]\n",
      "[35, 10, -1, -21, 12, 13, 9]\n"
     ]
    }
   ],
   "source": [
    "#sort based on remainder of 5\n",
    "# in: [1, 9, 35, 12, 13, 21, 10]\n",
    "# out: [35, 10, 1, 21, 12, 13, 9]\n",
    "import ast\n",
    " \n",
    "input_list = ast.literal_eval(input())\n",
    "def func(x):\n",
    "     return abs(x)%5\n",
    "    \n",
    "print(sorted(input_list, key=func))"
   ]
  },
  {
   "cell_type": "code",
   "execution_count": 28,
   "metadata": {},
   "outputs": [
    {
     "name": "stdout",
     "output_type": "stream",
     "text": [
      "[1, 3, 5, 7, 9, 10]\n",
      "[2, 3, 4, 5, 6, 8, 11, 12, 13]\n",
      "[1, 2, 3, 3, 4, 5, 5, 6, 7, 8, 9, 10, 11, 12, 13]\n"
     ]
    }
   ],
   "source": [
    "#merge sorted list\n",
    "#in : [1, 3, 5, 7, 9, 10]\n",
    "#      [2, 3, 4, 5, 6, 8, 11, 12, 13]\n",
    "#out : [1, 2, 3, 3, 4, 5, 5, 6, 7, 8, 9, 10, 11, 12, 13]\n",
    "import ast\n",
    "list1 = ast.literal_eval(input())\n",
    "list2 = ast.literal_eval(input())\n",
    "\n",
    "l1 = len(list1)\n",
    "l2 = len(list2)\n",
    "\n",
    "result_list =[]\n",
    "\n",
    "i=0\n",
    "j=0\n",
    "\n",
    "while i<l1 and j<l2:\n",
    "    if list1[i]<=list2[j]:\n",
    "        result_list.append(list1[i])\n",
    "        i=i+1\n",
    "    else:\n",
    "        result_list.append(list2[j])\n",
    "        j = j+1\n",
    "\n",
    "result_list = result_list + list1[i:] + list2[j:]\n",
    "print(result_list)"
   ]
  },
  {
   "cell_type": "code",
   "execution_count": 3,
   "metadata": {},
   "outputs": [
    {
     "name": "stdout",
     "output_type": "stream",
     "text": [
      "[1, 3, 5, 6, 10] \n",
      "15\n",
      "5 10\n"
     ]
    }
   ],
   "source": [
    "#two sum problem using two pointers\n",
    "#input : sorted list\n",
    "#        : sum\n",
    "#output: index of two elem in list whose sum is equal to the sum entered\n",
    "\n",
    "import ast\n",
    "input_list = ast.literal_eval(input())\n",
    "k =int(input())\n",
    "def twoSum(input_list):\n",
    "    l = 0\n",
    "    r = len(input_list) -1\n",
    "    while l<=r:\n",
    "        if input_list[l]+input_list[r] == k:\n",
    "            return([input_list[l],input_list[r]])\n",
    "        elif input_list[l]+input_list[r] > k:\n",
    "            r = r-1\n",
    "        else:\n",
    "            l= l+1\n",
    "    return([-1,-1])\n",
    "\n",
    "index = twoSum(input_list)\n",
    "print(index[0],index[1])\n",
    "    "
   ]
  },
  {
   "cell_type": "code",
   "execution_count": 6,
   "metadata": {},
   "outputs": [
    {
     "name": "stdout",
     "output_type": "stream",
     "text": [
      "9, 11, 13\n",
      "19\n",
      "True\n"
     ]
    }
   ],
   "source": [
    "#The first line will contain three comma-separated integers representing\n",
    "#three consecutive of some Arithmetic Progression\n",
    "#The second line will have the integer key\n",
    "\n",
    "#Output:\n",
    "#True if the key is a part of that AP, False otherwise\n",
    "\n",
    "input_list = input()\n",
    "numbers = input_list.split(\",\")\n",
    "x =  int(numbers[0])\n",
    "y = int(numbers[1])\n",
    "z = int(numbers[2])\n",
    "\n",
    "k = int(input())\n",
    "def is_insequence(x,y,z,k):\n",
    "  d = y-x\n",
    "  if (d == 0 ):\n",
    "    return k==x\n",
    "  if ((k-x)%d==0 & int((k-x)/d)>=0):\n",
    "    return True\n",
    "  else:\n",
    "    return False\n",
    "\n",
    "\n",
    "bool = is_insequence(x,y,z,k)\n",
    "print(bool)"
   ]
  },
  {
   "cell_type": "code",
   "execution_count": 42,
   "metadata": {},
   "outputs": [
    {
     "name": "stdout",
     "output_type": "stream",
     "text": [
      "[3, 5, 7, 9, 11, 13, 15, 17, 19, 21, 23, 25, 27]\n",
      "17\n",
      "7\n"
     ]
    }
   ],
   "source": [
    "#similar to binary search\n",
    "#reduce the search space in one-third of the last space search and write a searching algorithm\n",
    "\n",
    "import ast\n",
    "list1 = ast.literal_eval(input())\n",
    "key = int(input())\n",
    "\n",
    "\n",
    "def ternarySearch(list1,key):\n",
    "    len1 = len(list1)\n",
    "    l=0\n",
    "    r=len1-1\n",
    "    mid1=0\n",
    "    while l<=r:\n",
    "        mid1 = l + (r - l)//3\n",
    "        mid2 = mid1 + (r - l)//3\n",
    "    \n",
    "        if key == list1[mid1]:\n",
    "            return(mid1)\n",
    "            break\n",
    "        elif key == list1[mid2]:\n",
    "            return(mid2)\n",
    "            break\n",
    "        elif key>=list1[l] and key<list1[mid1]:\n",
    "            r=mid1-1\n",
    "        elif key>list1[mid1] and key<list1[mid2]:\n",
    "            l=mid1+1\n",
    "            r=mid2-1\n",
    "        else:\n",
    "            l=mid2+1\n",
    "    return(-1)\n",
    "\n",
    "print(ternarySearch(list1,key))"
   ]
  },
  {
   "cell_type": "code",
   "execution_count": 63,
   "metadata": {},
   "outputs": [
    {
     "name": "stdout",
     "output_type": "stream",
     "text": [
      "[13, 11, 8, 7, 6, 4, 3, 2, 1, 14, 15, 16, 17]\n",
      "17\n",
      "12\n"
     ]
    }
   ],
   "source": [
    "#Search in Valley\n",
    "#sorted_list: [1, 2, 3, 4, 6, 7, 8, 11, 13, 14, 15, 16, 17]\n",
    "#valley_list: [13, 11, 8, 7, 6, 4, 3, 2, 1, 14, 15, 16, 17].\n",
    "#Find the index of the given integer key in the given valley_list.\n",
    "\n",
    "#[15, 16, 17, 18, 11, 12, 13, 14]\n",
    "import ast\n",
    "valley_list = ast.literal_eval(input())\n",
    "key = int(input())\n",
    "\n",
    "def valley_array(data,key):\n",
    "    l=0\n",
    "    r = len(data)-1\n",
    "    while l<=r:\n",
    "        mid = (l+r)//2\n",
    "        if data[mid]==key:\n",
    "            return mid\n",
    "        elif data[l] >= data[mid]:\n",
    "            if key<=data[l] and key>data[mid]:\n",
    "                r = mid-1\n",
    "            else:\n",
    "                l = mid+1\n",
    "        elif data[l] < data[mid]:\n",
    "            if key>data[mid] and key<=data[r]:\n",
    "                l=mid+1\n",
    "            else:\n",
    "                r = mid-1\n",
    "    return -1\n",
    "    \n",
    "print(valley_array(valley_list,key))    \n",
    "    \n",
    "\n",
    "\n",
    "        "
   ]
  },
  {
   "cell_type": "code",
   "execution_count": 61,
   "metadata": {},
   "outputs": [
    {
     "name": "stdout",
     "output_type": "stream",
     "text": [
      "[13, 11, 8, 7, 6, 4, 3, 2, 1, 14, 15, 16, 17]\n"
     ]
    },
    {
     "ename": "ValueError",
     "evalue": "invalid literal for int() with base 10: '[13, 11, 8, 7, 6, 4, 3, 2, 1, 14, 15, 16, 17]'",
     "output_type": "error",
     "traceback": [
      "\u001b[1;31m---------------------------------------------------------------------------\u001b[0m",
      "\u001b[1;31mValueError\u001b[0m                                Traceback (most recent call last)",
      "\u001b[1;32m<ipython-input-61-336c49f234fd>\u001b[0m in \u001b[0;36m<module>\u001b[1;34m\u001b[0m\n\u001b[0;32m      1\u001b[0m \u001b[1;31m#print recusive pattern\u001b[0m\u001b[1;33m\u001b[0m\u001b[1;33m\u001b[0m\u001b[1;33m\u001b[0m\u001b[0m\n\u001b[0;32m      2\u001b[0m \u001b[1;33m\u001b[0m\u001b[0m\n\u001b[1;32m----> 3\u001b[1;33m \u001b[0mn\u001b[0m \u001b[1;33m=\u001b[0m \u001b[0mint\u001b[0m\u001b[1;33m(\u001b[0m\u001b[0minput\u001b[0m\u001b[1;33m(\u001b[0m\u001b[1;33m)\u001b[0m\u001b[1;33m)\u001b[0m\u001b[1;33m\u001b[0m\u001b[1;33m\u001b[0m\u001b[0m\n\u001b[0m\u001b[0;32m      4\u001b[0m \u001b[0mk\u001b[0m \u001b[1;33m=\u001b[0m \u001b[0mint\u001b[0m\u001b[1;33m(\u001b[0m\u001b[0minput\u001b[0m\u001b[1;33m(\u001b[0m\u001b[1;33m)\u001b[0m\u001b[1;33m)\u001b[0m\u001b[1;33m\u001b[0m\u001b[1;33m\u001b[0m\u001b[0m\n\u001b[0;32m      5\u001b[0m \u001b[1;33m\u001b[0m\u001b[0m\n",
      "\u001b[1;31mValueError\u001b[0m: invalid literal for int() with base 10: '[13, 11, 8, 7, 6, 4, 3, 2, 1, 14, 15, 16, 17]'"
     ]
    }
   ],
   "source": [
    "#print recusive pattern\n",
    "\n",
    "n = int(input())\n",
    "k = int(input())\n",
    "\n",
    "def print_pattern(n,k,max): \n",
    "  \n",
    "    # base condition \n",
    "    if ((n <= 0) & (k> 0) ): \n",
    "        \n",
    "        return n\n",
    "\n",
    "    if ((n == max) & ( k < 0 )): \n",
    "        print(n, end='')\n",
    "        return n      \n",
    "      \n",
    "    print(str(n)+', ', end='')\n",
    "    return print_pattern(n - k,k,max) \n",
    "  \n",
    "def pattern(n,k,max): \n",
    "    new_val =  print_pattern(n,k,max)  \n",
    "    print_pattern(new_val,-1*k,max)\n",
    "\n",
    "pattern(n,k,n) "
   ]
  },
  {
   "cell_type": "code",
   "execution_count": 67,
   "metadata": {},
   "outputs": [
    {
     "name": "stdout",
     "output_type": "stream",
     "text": [
      "[1,1,1,1,1,0,1,0,1,0,2,1,2,1,2,1,0,0,0,0,0,1,2]\n",
      "[0, 0, 0, 0, 0, 0, 0, 0, 1, 1, 1, 1, 1, 1, 1, 1, 1, 1, 1, 2, 2, 2, 2]\n"
     ]
    }
   ],
   "source": [
    "#sort an array of 0 1 2\n",
    "import ast\n",
    "\n",
    "input_list = ast.literal_eval(input())\n",
    "\n",
    "def sortArray(input_list):\n",
    "    i = 0\n",
    "    j = len(input_list) - 1\n",
    "    k = 0\n",
    "    while(k<=j):\n",
    "        if input_list[k] == 0:\n",
    "            input_list[i], input_list[k] = input_list[k], input_list[i]\n",
    "            i=i+1\n",
    "            k=k+1\n",
    "        elif input_list[k] == 1:\n",
    "            k=k+1\n",
    "        else:\n",
    "            input_list[k],input_list[j] = input_list[j],input_list[k]\n",
    "            j=j-1\n",
    "    return(input_list)\n",
    "print(sortArray(input_list))"
   ]
  },
  {
   "cell_type": "code",
   "execution_count": 70,
   "metadata": {},
   "outputs": [
    {
     "name": "stdout",
     "output_type": "stream",
     "text": [
      "0\n",
      "1\n"
     ]
    }
   ],
   "source": [
    "#Factorial using recursion\n",
    "#take input here\n",
    "num=int(input())\n",
    "\n",
    "#write the recurssive function to find the factorial of num\n",
    "def factorial(n):\n",
    "    #find and RETURN factorial of num\n",
    "    if n==0:\n",
    "        return 1\n",
    "    else:\n",
    "        return n*factorial(n-1)\n",
    "    \n",
    "\n",
    "#function ends here\n",
    "\n",
    "print(factorial(num))\n"
   ]
  },
  {
   "cell_type": "code",
   "execution_count": 77,
   "metadata": {},
   "outputs": [
    {
     "name": "stdout",
     "output_type": "stream",
     "text": [
      "4\n",
      "-4\n",
      "-3\n",
      "-2\n",
      "-1\n",
      "0\n",
      "1\n",
      "2\n",
      "3\n",
      "4\n"
     ]
    }
   ],
   "source": [
    "#recursive print\n",
    "n=int(input())\n",
    "\n",
    "def recurPrint(n):\n",
    "    if n==0:\n",
    "        print(0)\n",
    "    else:\n",
    "        print(-n)\n",
    "        recurPrint(n-1)\n",
    "        print(n)\n",
    "\n",
    "recurPrint(n)"
   ]
  },
  {
   "cell_type": "code",
   "execution_count": 78,
   "metadata": {},
   "outputs": [
    {
     "name": "stdout",
     "output_type": "stream",
     "text": [
      "3\n",
      "2\n"
     ]
    }
   ],
   "source": [
    "#recursive fibonaci\n",
    "n=int(input())\n",
    "\n",
    "def fib(n):\n",
    "    if n == 1 or n == 2:\n",
    "        return 1\n",
    "    else:\n",
    "        prev1 = fib(n-1)\n",
    "        prev2 = fib(n-2)\n",
    "        fib_val = prev1 + prev2\n",
    "        return fib_val\n",
    "print(fib(n))"
   ]
  },
  {
   "cell_type": "code",
   "execution_count": 86,
   "metadata": {},
   "outputs": [
    {
     "name": "stdout",
     "output_type": "stream",
     "text": [
      "1,1,1\n",
      "2\n"
     ]
    }
   ],
   "source": [
    "#F(n) = n - c for all n > b \n",
    "#F(n) = F(a + F(a + F(a + F(a + n)))) for all n ≤ b. \n",
    "\n",
    "#S(a, b, c) = ∑F(n)  where n takes the values 0 till b\n",
    "\n",
    "input_str = input()\n",
    "input_list = input_str.split(',')\n",
    "\n",
    "a = int(input_list[0])\n",
    "b = int(input_list[1])\n",
    "c = int(input_list[2])\n",
    "\n",
    "def func(a,b,c,n):\n",
    "    if n>b:\n",
    "        return n-c\n",
    "    else:\n",
    "        i = a + func(a,b,c,a+n)\n",
    "        j = a + func(a,b,c,i)\n",
    "        k = a + func(a,b,c,j)\n",
    "        return func(a,b,c,k)\n",
    "\n",
    "def large_sum(a,b,c):\n",
    "    total = 0\n",
    "    for i in range(b+1):\n",
    "        total = total + func(a,b,c,i)\n",
    "    return total\n",
    "\n",
    "print(sumFunc(a,b,c))\n",
    "#print(func(20,100,15,2000))"
   ]
  },
  {
   "cell_type": "code",
   "execution_count": null,
   "metadata": {},
   "outputs": [],
   "source": []
  }
 ],
 "metadata": {
  "kernelspec": {
   "display_name": "Python 3",
   "language": "python",
   "name": "python3"
  },
  "language_info": {
   "codemirror_mode": {
    "name": "ipython",
    "version": 3
   },
   "file_extension": ".py",
   "mimetype": "text/x-python",
   "name": "python",
   "nbconvert_exporter": "python",
   "pygments_lexer": "ipython3",
   "version": "3.7.1"
  }
 },
 "nbformat": 4,
 "nbformat_minor": 2
}
