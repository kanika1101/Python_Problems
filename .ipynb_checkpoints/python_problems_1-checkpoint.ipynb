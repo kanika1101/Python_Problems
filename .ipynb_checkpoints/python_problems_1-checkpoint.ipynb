{
 "cells": [
  {
   "cell_type": "code",
   "execution_count": 1,
   "metadata": {},
   "outputs": [
    {
     "name": "stdout",
     "output_type": "stream",
     "text": [
      "x= 10,y = 5\n"
     ]
    }
   ],
   "source": [
    "#swapping variables \n",
    "x=10;\n",
    "y=5\n",
    "print(\"x= {},y = {}\".format(x,y))"
   ]
  },
  {
   "cell_type": "code",
   "execution_count": 4,
   "metadata": {},
   "outputs": [
    {
     "name": "stdout",
     "output_type": "stream",
     "text": [
      "x= 5,y = 10\n"
     ]
    }
   ],
   "source": [
    "x = x+y;\n",
    "y = x-y;\n",
    "x = x-y;\n",
    "print(\"x= {},y = {}\".format(x,y))"
   ]
  },
  {
   "cell_type": "code",
   "execution_count": 87,
   "metadata": {},
   "outputs": [
    {
     "name": "stdout",
     "output_type": "stream",
     "text": [
      "x= 5,y = 10\n"
     ]
    }
   ],
   "source": [
    "x=10;\n",
    "y=5\n",
    "x=x^y\n",
    "y=x^y\n",
    "x=x^y\n",
    "print(\"x= {},y = {}\".format(x,y))"
   ]
  },
  {
   "cell_type": "code",
   "execution_count": 14,
   "metadata": {},
   "outputs": [
    {
     "name": "stdout",
     "output_type": "stream",
     "text": [
      "1234\n",
      "Actual number = 1234, reverse number = 4321\n",
      "30\n"
     ]
    }
   ],
   "source": [
    "#reversing digits of a number\n",
    "n = int(input())\n",
    "rev = 0\n",
    "x=n\n",
    "while(x > 0): \n",
    "    a = x % 10\n",
    "    rev = rev * 10 + a \n",
    "    x = x // 10\n",
    "print(\"Actual number = {}, reverse number = {}\".format(n,rev))\n",
    "\n",
    "#getting the digits numbers from string\n",
    "nums = list(map(int,str(n)))\n",
    "print(sum(list(map(lambda x: x**2,nums))))"
   ]
  },
  {
   "cell_type": "code",
   "execution_count": 88,
   "metadata": {},
   "outputs": [
    {
     "name": "stdout",
     "output_type": "stream",
     "text": [
      "12,23\n",
      "x before swapping: 12\n",
      "y before swapping: 23\n",
      "\n",
      "x after swapping: 23\n",
      "y after swapping: 12\n"
     ]
    }
   ],
   "source": [
    "in_string=input()\n",
    "num_list = in_string.split(',')\n",
    "x = int(num_list[0])\n",
    "y = int(num_list[1])\n",
    "\n",
    "print('x before swapping: {}'.format(x))\n",
    "print('y before swapping: {}'.format(y))\n",
    "\n",
    "x= x*y\n",
    "y=x//y\n",
    "x=x//y\n",
    "\n",
    "print()\n",
    "print('x after swapping: {}'.format(x))\n",
    "print('y after swapping: {}'.format(y))\n",
    "\n"
   ]
  },
  {
   "cell_type": "code",
   "execution_count": 91,
   "metadata": {},
   "outputs": [
    {
     "name": "stdout",
     "output_type": "stream",
     "text": [
      "12\n",
      "Even\n"
     ]
    }
   ],
   "source": [
    "#check whether the number is odd/even\n",
    "num=int(input())\n",
    "\n",
    "if num%2 == 0:\n",
    "    print(\"Even\")\n",
    "else:\n",
    "    print(\"Odd\")"
   ]
  },
  {
   "cell_type": "code",
   "execution_count": 96,
   "metadata": {},
   "outputs": [
    {
     "name": "stdout",
     "output_type": "stream",
     "text": [
      "11\n",
      "pretty\n"
     ]
    }
   ],
   "source": [
    "#beautiful, pretty or sexy\n",
    "num=int(input())\n",
    "\n",
    "if num%3 == 0:\n",
    "    print(\"sexy\")\n",
    "elif num%3 == 2:\n",
    "    print(\"pretty\")\n",
    "else:\n",
    "    print(\"beautiful\")"
   ]
  },
  {
   "cell_type": "code",
   "execution_count": 3,
   "metadata": {},
   "outputs": [
    {
     "name": "stdout",
     "output_type": "stream",
     "text": [
      " [1]\n",
      "\n",
      "\n",
      " [1, 1]\n",
      "\n",
      "\n",
      " [1, 2, 1]\n",
      "\n",
      "\n",
      " [1, 3, 3, 1]\n",
      "\n",
      "\n",
      " [1, 4, 6, 4, 1]\n",
      "\n",
      "\n"
     ]
    }
   ],
   "source": [
    "#print pascal triangle\n",
    "def pascalTriangle(n):\n",
    "    triangle = [];\n",
    "    if n==0:\n",
    "        return [0]\n",
    "    elif n==1:\n",
    "        return [[1]]\n",
    "    else:\n",
    "        for i in range(1,n+1):\n",
    "            ith_list = []\n",
    "            k=0\n",
    "            for j in range(i):\n",
    "                if j==0 or j==i-1:\n",
    "                    ith_list.append(1)\n",
    "                else:\n",
    "                    ith_list.append(triangle[i-2][k] + triangle[i-2][k+1])\n",
    "                    k+=1\n",
    "            triangle.append(ith_list[:])\n",
    "        return triangle\n",
    "\n",
    "\n",
    "pt = pascalTriangle(5)\n",
    "for i in range(0,len(pt)):\n",
    "    print(\" {}\".format(pt[i]))\n",
    "    print(\"\\n\")\n",
    "#print(pt[-1])\n"
   ]
  },
  {
   "cell_type": "code",
   "execution_count": 12,
   "metadata": {},
   "outputs": [
    {
     "name": "stdout",
     "output_type": "stream",
     "text": [
      "5\n",
      "[1]\n",
      "[1, 1]\n",
      "[1, 2, 1]\n",
      "[1, 3, 3, 1]\n",
      "[1, 4, 6, 4, 1]\n"
     ]
    }
   ],
   "source": [
    "#Practice\n",
    "import ast\n",
    "n = int(input())\n",
    "\n",
    "triangle = []\n",
    "for i in range(1,n+1):\n",
    "    ith_list = []\n",
    "    k=0\n",
    "    for j in range(0,i):\n",
    "        \n",
    "        if j==0 or j==i-1:\n",
    "            ith_list.append(1)\n",
    "        else:\n",
    "            ith_list.append(triangle[i-2][k] + triangle[i-2][k+1])\n",
    "            k+=1\n",
    "    triangle.append(ith_list)\n",
    "for i in range(len(triangle)):\n",
    "    print(triangle[i])"
   ]
  },
  {
   "cell_type": "code",
   "execution_count": 2,
   "metadata": {},
   "outputs": [
    {
     "name": "stdout",
     "output_type": "stream",
     "text": [
      "Enter a:34\n",
      "Enter b:56\n",
      "34\n",
      "Buzz\n",
      "Fizz\n",
      "37\n",
      "38\n",
      "Fizz\n",
      "Buzz\n",
      "41\n",
      "Fizz\n",
      "43\n",
      "44\n",
      "FizzBuzz\n",
      "46\n",
      "47\n",
      "Fizz\n",
      "49\n",
      "Buzz\n",
      "Fizz\n",
      "52\n",
      "53\n",
      "Fizz\n",
      "Buzz\n",
      "56\n"
     ]
    }
   ],
   "source": [
    "#Write a program that prints the numbers from a given 'a' to 'b', but for multiples of '3' print \"Fizz\"\n",
    "#instead of the number and for the multiples of '5' print \"Buzz\". \n",
    "#And for multiples of both 3 and 5, print “FizzBuzz”\n",
    "\n",
    "a = int(input(\"Enter a:\"));\n",
    "b = int(input(\"Enter b:\"));\n",
    "\n",
    "for i in range(a,b+1):\n",
    "    if i%3 == 0 and i%5 == 0:\n",
    "        print(\"FizzBuzz\")\n",
    "    elif i%3 == 0:\n",
    "        print(\"Fizz\")\n",
    "    elif i%5 == 0:\n",
    "        print(\"Buzz\")\n",
    "    else:\n",
    "        print(i)"
   ]
  },
  {
   "cell_type": "code",
   "execution_count": 15,
   "metadata": {},
   "outputs": [
    {
     "name": "stdout",
     "output_type": "stream",
     "text": [
      "[5,1]\n",
      "10.00\n"
     ]
    }
   ],
   "source": [
    "#alarm Clock\n",
    "\n",
    "import ast\n",
    "\n",
    "input_str = input()\n",
    "input_list = ast.literal_eval(input_str)\n",
    "day_of_the_week = input_list[0]\n",
    "is_on_vacation = input_list[1]\n",
    "\n",
    "def alarm_time(day_of_week,is_on_vacation):\n",
    "    weekend = [6,7]\n",
    "    if is_on_vacation and day_of_week not in weekend:\n",
    "        return \"10.00\"\n",
    "    elif is_on_vacation and day_of_week in weekend:\n",
    "        return \"off\"\n",
    "    elif ~is_on_vacation and day_of_week not in weekend:\n",
    "        return \"7.00\"\n",
    "    else:\n",
    "        return \"10.00\"\n",
    "\n",
    "print(alarm_time(day_of_the_week,is_on_vacation))"
   ]
  },
  {
   "cell_type": "code",
   "execution_count": 10,
   "metadata": {},
   "outputs": [
    {
     "name": "stdout",
     "output_type": "stream",
     "text": [
      "3\n",
      "6\n"
     ]
    }
   ],
   "source": [
    "#Factorial\n",
    "#make a function that will take an integer as input, and return the factorial of that integer\n",
    "#if that integer is greater than or equal to zero and return -1 if the number is less than zero or negative.\n",
    "from functools import reduce\n",
    "number= int(input())\n",
    "\n",
    "def factorial(n):\n",
    "    if n<0:\n",
    "        return -1\n",
    "    else:\n",
    "        if n==0:\n",
    "            return 1\n",
    "        else:\n",
    "            return(reduce(lambda x,y:x*y,range(1,n+1)))\n",
    "            #return(reduce(lambda(x,y:x*y,range(1,n+1))))\n",
    "print(factorial(number))"
   ]
  },
  {
   "cell_type": "code",
   "execution_count": 60,
   "metadata": {},
   "outputs": [
    {
     "name": "stdout",
     "output_type": "stream",
     "text": [
      "15,2\n",
      "10\n"
     ]
    }
   ],
   "source": [
    "#number of chocolates\n",
    "#upon bringing w wrappers of the same chocolate, you will get k new chocolate for free. \n",
    "#If Sanjay has m Rupees. How many chocolates will he be able to eat if each chocolate costs c Rupees?\n",
    "\n",
    "w=3\n",
    "k=1\n",
    "\n",
    "import ast\n",
    "mystring = input()\n",
    "mylist = mystring.split(',')\n",
    "\n",
    "m = int(mylist[0])\n",
    "c = int(mylist[1])\n",
    "\n",
    "choc = m//c\n",
    "w = m//c\n",
    "\n",
    "while w//3!=0:\n",
    "    choc = choc + w//3\n",
    "    w = w//3 + w%3\n",
    "print(choc)"
   ]
  },
  {
   "cell_type": "code",
   "execution_count": 1,
   "metadata": {},
   "outputs": [
    {
     "name": "stdout",
     "output_type": "stream",
     "text": [
      "5\n",
      "    *\n",
      "   *_*\n",
      "  *_*_*\n",
      " *_*_*_*\n",
      "*_*_*_*_*\n"
     ]
    }
   ],
   "source": [
    "#print the pattern\n",
    "n = int(input())\n",
    "\n",
    "for i in range(1,n+1):\n",
    "    for j in range(1,n-i+1):\n",
    "        print(' ',end='')\n",
    "    for k in range(0,i-1):\n",
    "        print('*_',end='')\n",
    "    print(\"*\")"
   ]
  },
  {
   "cell_type": "code",
   "execution_count": 3,
   "metadata": {},
   "outputs": [
    {
     "name": "stdout",
     "output_type": "stream",
     "text": [
      "5\n",
      "--------e--------\n",
      "------e-d-e------\n",
      "----e-d-c-d-e----\n",
      "--e-d-c-b-c-d-e--\n",
      "e-d-c-b-a-b-c-d-e\n",
      "--e-d-c-b-c-d-e--\n",
      "----e-d-c-d-e----\n",
      "------e-d-e------\n",
      "--------e--------\n"
     ]
    }
   ],
   "source": [
    "#print pattern\n",
    "#----c---- \n",
    "#--c-b-c-- \n",
    "#c-b-a-b-c \n",
    "#--c-b-c-- \n",
    "#----c----\n",
    "\n",
    "#--------e-------- 0  n\n",
    "#------e-d-e------ 1  n n-1 n\n",
    "#----e-d-c-d-e---- 3  n n-1 n-2 n-1 m\n",
    "#--e-d-c-b-c-d-e-- 5 4 -0\n",
    "#e-d-c-b-a-b-c-d-e 7 5 -(-2)\n",
    "#--e-d-c-b-c-d-e-- 5 6  -(-4)\n",
    "#----e-d-c-d-e---- 3\n",
    "#------e-d-e------ 1\n",
    "#--------e-------- \n",
    "\n",
    "import string\n",
    "d = dict(enumerate(string.ascii_lowercase, 1))\n",
    "#print(d)\n",
    "\n",
    "n = int(input())\n",
    "\n",
    "if n==1:\n",
    "    print(d[1])\n",
    "\n",
    "else:\n",
    "\n",
    "    for i in range(1,n+1):\n",
    "        for j in range(abs(2*n-2*i)):\n",
    "            print(\"-\",end='')\n",
    "        for j in range(n,n-i,-1):\n",
    "            print(\"{}-\".format(d[j]),end='')\n",
    "        for j in range(i+1,2,-1):\n",
    "            if i!=n:\n",
    "                print(\"{}-\".format(d[n-j+3]),end='')\n",
    "            else:\n",
    "                if (n-j+3)!=n:\n",
    "                    print(\"{}-\".format(d[n-j+3]),end='')\n",
    "                else:\n",
    "                    print(\"{}\".format(d[n-j+3]),end='')\n",
    "        for j in range(abs(2*n-2*i)-1):\n",
    "            print(\"-\",end='')\n",
    "        print()\n",
    "    \n",
    "    for i in range(n-1,0,-1):\n",
    "        for j in range(abs(2*n-2*i)):\n",
    "            print(\"-\",end='')\n",
    "        for j in range(n,n-i,-1):\n",
    "            print(\"{}-\".format(d[j]),end='')\n",
    "        for j in range(i+1,2,-1):\n",
    "            print(\"{}-\".format(d[n-j+3]),end='')\n",
    "    \n",
    "        for j in range(abs(2*n-2*i)-1):\n",
    "            print(\"-\",end='')\n",
    "        print()\n",
    "    \n",
    "    \n",
    "    \n",
    "    \n",
    "    \n",
    "    \n",
    "    "
   ]
  },
  {
   "cell_type": "code",
   "execution_count": 74,
   "metadata": {},
   "outputs": [
    {
     "name": "stdout",
     "output_type": "stream",
     "text": [
      "3\n",
      "True\n"
     ]
    }
   ],
   "source": [
    "#armstrong number\n",
    "#Any number, say n is called an Armstrong number if it is equal to the sum of its digits, where each is raised to the power of number of digits in n.\n",
    "#For example:\n",
    "#153=1**3+5**3+3**3\n",
    "n=int(input())\n",
    "from functools import reduce\n",
    "\n",
    "def isArmstrong(n):\n",
    "    digit_list = []\n",
    "    number = n;\n",
    "    while number>0:\n",
    "        digit_list.append(number%10)\n",
    "        number = number//10\n",
    "    numberOfDigits = len(digit_list)\n",
    "    powerDigits = [i**numberOfDigits for i in digit_list]\n",
    "    sumOfPowerDigits = reduce(lambda x,y:x+y,powerDigits)\n",
    "    return (sumOfPowerDigits == n)\n",
    "\n",
    "print(isArmstrong(n))\n",
    "\n",
    "### suggested soln\n",
    "n=int(input())\n",
    "\n",
    "digits=list(map(int,str(n)))\n",
    "num=sum(list(map(lambda x:x**3,digits)))\n",
    "print(num==n)"
   ]
  },
  {
   "cell_type": "code",
   "execution_count": 8,
   "metadata": {},
   "outputs": [
    {
     "name": "stdout",
     "output_type": "stream",
     "text": [
      "4\n",
      "0\n",
      "1\n",
      "1\n",
      "2\n"
     ]
    }
   ],
   "source": [
    "# fibonacci series\n",
    "n = int(input())\n",
    "\n",
    "def getFibonacci(n):\n",
    "    if n==1:\n",
    "        return [0]\n",
    "    elif n==2:\n",
    "        return [0,1]\n",
    "    else:\n",
    "        fseries = [0,1]\n",
    "        for i in range(2,n):\n",
    "            fseries.append(fseries[i-1] + fseries[i-2])\n",
    "        return fseries\n",
    "    \n",
    "fibonacci = getFibonacci(n)\n",
    "for i in fibonacci:\n",
    "    print(i)"
   ]
  },
  {
   "cell_type": "code",
   "execution_count": 22,
   "metadata": {},
   "outputs": [
    {
     "name": "stdout",
     "output_type": "stream",
     "text": [
      "20\n",
      "77\n"
     ]
    }
   ],
   "source": [
    "#To print prime numbers from 2 to n\n",
    "n = int(input())\n",
    "isPrime = lambda n: all(n%i != 0 for i in range(2,n//2 + 1))\n",
    "print(sum([i for i in range(2,n+1) if isPrime(i)]))\n",
    "\n",
    "\n",
    "isPrime = lambda n: all(n%i != 0 for i in range(1,n//2 + 1))\n",
    "print(sum([i for i in range(2,n+1) if isPrime(i)]))"
   ]
  },
  {
   "cell_type": "code",
   "execution_count": 38,
   "metadata": {},
   "outputs": [
    {
     "name": "stdout",
     "output_type": "stream",
     "text": [
      "73\n",
      "number entered is prime\n"
     ]
    }
   ],
   "source": [
    "#Prime Numbers\n",
    "#Determine whether a positive integer n is a prime number or not. Assume n>1.\n",
    "#Display “number entered is prime” if n is prime, otherwise display “number entered is not prime”.\n",
    "#Sample Input:\n",
    "#7\n",
    "#Sample Output:\n",
    "#number entered is prime\n",
    "n = int(input())\n",
    "isPrime = lambda n: all(n%i != 0 for i in range(2,n//2 + 1))\n",
    "if isPrime(n):\n",
    "    print(\"number entered is prime\")\n",
    "else:\n",
    "    print(\"number entered is not prime\")\n",
    "\n"
   ]
  },
  {
   "cell_type": "code",
   "execution_count": 5,
   "metadata": {},
   "outputs": [
    {
     "name": "stdout",
     "output_type": "stream",
     "text": [
      "-3\n"
     ]
    },
    {
     "data": {
      "text/plain": [
       "-3"
      ]
     },
     "execution_count": 5,
     "metadata": {},
     "output_type": "execute_result"
    }
   ],
   "source": [
    "#to find minimum\n",
    "l = [1,4,-2,-3,0]\n",
    "print(min(l))\n",
    "l.sort()\n",
    "l[0]"
   ]
  },
  {
   "cell_type": "code",
   "execution_count": 7,
   "metadata": {},
   "outputs": [
    {
     "name": "stdout",
     "output_type": "stream",
     "text": [
      "[1,2,3,4]\n",
      "[3,4,4,2]\n",
      "[1, 2, 3, 4, 3, 4, 4]\n"
     ]
    }
   ],
   "source": [
    "#to check if given number is greater than average\n",
    "from functools import reduce\n",
    "import ast\n",
    "team = list(ast.literal_eval(input()))\n",
    "applicant = ast.literal_eval(input())\n",
    "\n",
    "#shouldHire = lambda data,check:((reduce(lambda x,y:x+y,data))/len(data) <check)\n",
    "shouldHire = lambda x,y : sum(x)/len(x) < y\n",
    "for appl in applicant:\n",
    "    if shouldHire(team,appl):\n",
    "        team.append(appl)\n",
    "print(team)"
   ]
  },
  {
   "cell_type": "code",
   "execution_count": 52,
   "metadata": {},
   "outputs": [
    {
     "name": "stdout",
     "output_type": "stream",
     "text": [
      "[[29,31],[23,26],[24,25]]\n",
      "24\n",
      "2\n"
     ]
    }
   ],
   "source": [
    "#overlapping events in calendar\n",
    "\n",
    "#events = [[29,31],[23,26],[24,25]]\n",
    "#weddingDay = 24\n",
    "import ast\n",
    "input_str1 = input()\n",
    "input_list1 = ast.literal_eval(input_str1)\n",
    "events = input_list1\n",
    "\n",
    "wedding = int(input())\n",
    "count = 0\n",
    "for event in events:\n",
    "    if wedding in range(event[0],event[1]+1):\n",
    "        count= count+1\n",
    "        \n",
    "print(count)"
   ]
  },
  {
   "cell_type": "code",
   "execution_count": 11,
   "metadata": {},
   "outputs": [
    {
     "name": "stdout",
     "output_type": "stream",
     "text": [
      "[3,4]\n",
      "[[0, 0, 0, 0], [0, 0, 0, 0], [0, 0, 0, 0]]\n",
      "[1, 1, 1, 1]\n",
      "[1, 0, 0, 1]\n",
      "[1, 1, 1, 1]\n"
     ]
    }
   ],
   "source": [
    "#Fenced Matrix\n",
    "import ast\n",
    "\n",
    "mylist = ast.literal_eval(input())\n",
    "m = mylist[0]\n",
    "n = mylist[1]\n",
    "\n",
    "final =[0] * n\n",
    "matrix = [list(final) for i in range(m)]\n",
    "\n",
    "print(matrix)\n",
    "for i in range(m):\n",
    "    for j in range(n):\n",
    "        if i==0 or j==0 or i==m-1 or j==n-1:\n",
    "            matrix[i][j] = 1\n",
    "\n",
    "for i in matrix:\n",
    "    print(i)"
   ]
  },
  {
   "cell_type": "code",
   "execution_count": null,
   "metadata": {},
   "outputs": [],
   "source": [
    "#Given an array, all the numbers appear twice — except one. Find the non-repeating number.\n",
    "a=9\n",
    "b=9\n",
    "l = [2, 2, 7, 7, 1, 1, 3, 3, 9]\n",
    "l[0]\n",
    "i=0\n",
    "while(i<len(l)-1):\n",
    "    if (l[i]^l[i+1])!=0:\n",
    "        print(l[i])\n",
    "    i+=2"
   ]
  },
  {
   "cell_type": "code",
   "execution_count": null,
   "metadata": {},
   "outputs": [],
   "source": [
    "while(i<len(l)-1):\n",
    "    if (l[i]^l[i+1])!=0:\n",
    "        print(l[i])\n",
    "    i+=2"
   ]
  },
  {
   "cell_type": "code",
   "execution_count": 12,
   "metadata": {},
   "outputs": [
    {
     "name": "stdout",
     "output_type": "stream",
     "text": [
      "True\n",
      "False\n"
     ]
    }
   ],
   "source": [
    ",#For a sorted list L (sorted in an ascending order), containing ‘n’ integers,,,,\n",
    "#find if there exists a pair of elements in the list — whose sum is equal to ‘S’.\n",
    "\n",
    "#using 2 pointer approach\n",
    "def twosum(L, S):\n",
    "    n = len(L)\n",
    "    i = 0\n",
    "    j = n - 1\n",
    "    \n",
    "    while i < j:\n",
    "            if L[i] + L[j] == S:\n",
    "                return True\n",
    "            \n",
    "            elif L[i] + L[j] < S:\n",
    "                i += 1\n",
    "                \n",
    "            else:\n",
    "                j -= 1\n",
    "                            \n",
    "    return False\n",
    "\n",
    "print(twosum([1,5,7,9,10,15,16],16));\n",
    "print(twosum([1,5,7,9,10,15,16],2));\n"
   ]
  },
  {
   "cell_type": "code",
   "execution_count": 67,
   "metadata": {},
   "outputs": [
    {
     "name": "stdout",
     "output_type": "stream",
     "text": [
      "\"abcd\"\n",
      "0\n"
     ]
    }
   ],
   "source": [
    "#palindrome\n",
    "s = input()\n",
    "s = s.lower()\n",
    "r = \"\"\n",
    "for i in s:\n",
    "    r = i+r\n",
    "if r == s:\n",
    "    print(1)\n",
    "else:\n",
    "    print(0)"
   ]
  },
  {
   "cell_type": "code",
   "execution_count": 71,
   "metadata": {},
   "outputs": [
    {
     "data": {
      "text/plain": [
       "[4, 3, 2, 1]"
      ]
     },
     "execution_count": 71,
     "metadata": {},
     "output_type": "execute_result"
    }
   ],
   "source": [
    "l=[1,2,3,4]\n",
    "l.reverse()\n",
    "l"
   ]
  },
  {
   "cell_type": "code",
   "execution_count": 19,
   "metadata": {},
   "outputs": [
    {
     "name": "stdout",
     "output_type": "stream",
     "text": [
      "kpo jl ojl\n",
      "ojl jl kpo\n"
     ]
    }
   ],
   "source": [
    "#reverse words\n",
    "sentence = input()\n",
    "word = sentence.split(' ')\n",
    "reverse = word[::-1]\n",
    "reverse_words = ' '.join(reverse)\n",
    "print(reverse_words)"
   ]
  },
  {
   "cell_type": "code",
   "execution_count": 17,
   "metadata": {},
   "outputs": [
    {
     "name": "stdout",
     "output_type": "stream",
     "text": [
      "[5,4,2,1,4,5]\n",
      "True\n",
      "[5, 5, 4, 4, 2, 1]\n"
     ]
    }
   ],
   "source": [
    "#You are given a row of Lego Blocks consisting of n blocks. \n",
    "#All the blocks given have a square base whose side length is known. \n",
    "#You need to stack the blocks over each other and create a vertical tower. \n",
    "#Block-1 can go over Block-2 only if sideLength(Block-2)=>sideLength(Block-1).\n",
    "#From the row of Lego blocks, you on only pick up either the leftmost or rightmost block.\n",
    "#Print \"Possible\" if it is possible to stack all n cubes this way or else print \"Impossible\".\n",
    "\n",
    "import ast\n",
    "input_str = input()\n",
    "sides = ast.literal_eval(input_str)#list of side lengths\n",
    "\n",
    "isStackable = True\n",
    "left = 0\n",
    "right = len(sides)-1\n",
    "stackedBlocks = []\n",
    "\n",
    "#stack the first block\n",
    "if sides[left]>=sides[right]:\n",
    "    stackedBlocks.append(sides[left])\n",
    "    left+=1\n",
    "else:\n",
    "    stackedBlocks.append(sides[right])\n",
    "    right-=1\n",
    "    \n",
    "while left<=right and isStackable:\n",
    "    if sides[left]>=sides[right]:\n",
    "        if sides[left]<=stackedBlocks[-1]:\n",
    "            stackedBlocks.append(sides[left])\n",
    "            left+=1\n",
    "        else:\n",
    "            isStackable = False\n",
    "    elif sides[right]<=stackedBlocks[-1]:\n",
    "        stackedBlocks.append(sides[right])\n",
    "        right-=1\n",
    "    else:\n",
    "        isStackable = False\n",
    "        \n",
    "if isStackable:\n",
    "    print(\"Possible\")\n",
    "else:\n",
    "    print(\"Impossible\")\n",
    "#print(stackedBlocks)\n"
   ]
  },
  {
   "cell_type": "code",
   "execution_count": 24,
   "metadata": {},
   "outputs": [
    {
     "name": "stdout",
     "output_type": "stream",
     "text": [
      "[[1, 2, 3, 4], [5, 6, 7, 8], [9]]\n",
      "[1, 2, 3, 4]\n",
      "[5, 6, 7, 8]\n",
      "[9]\n"
     ]
    }
   ],
   "source": [
    "#Write a Python program to divide a given list into chunks of size k.\n",
    "l= [1,2,3,4,5,6,7,8,9]\n",
    "k= 4\n",
    "\n",
    "list2 =[l[i:i+k] for i in range(0,len(l),k)]\n",
    "list2 =[l[i:i+k] for i in range(0,len(l),k)]\n",
    "\n",
    "print(list2)\n",
    "for i in range(len(list2)):\n",
    "    print(list2[i])"
   ]
  },
  {
   "cell_type": "code",
   "execution_count": 44,
   "metadata": {},
   "outputs": [
    {
     "name": "stdout",
     "output_type": "stream",
     "text": [
      "not present\n"
     ]
    }
   ],
   "source": [
    "#Given a list of numbers (with repitition), find the second largest number in the list.\n",
    "l = [1,1,1,1]\n",
    "numberSet = set(l)\n",
    "myList = list(numberSet)\n",
    "myList.sort(reverse = True)\n",
    "if len(myList)>1:\n",
    "    print(myList[1])\n",
    "else:\n",
    "    print(\"not present\")"
   ]
  },
  {
   "cell_type": "code",
   "execution_count": 26,
   "metadata": {},
   "outputs": [
    {
     "name": "stdout",
     "output_type": "stream",
     "text": [
      "6\n",
      "66666666666\n",
      "65555555556\n",
      "65444444456\n",
      "65433333456\n",
      "65432223456\n",
      "65432123456\n",
      "65432223456\n",
      "65433333456\n",
      "65444444456\n",
      "65555555556\n",
      "66666666666\n"
     ]
    }
   ],
   "source": [
    "n=int(input())\n",
    "\n",
    "#we will make a list of lists with just [1] in it. We will run a for loop from i= 2 to n and in each iteration\n",
    "#we will add [i]*(2i-3) in top of the list and and in bottom\n",
    "#then add i on both sides of all sub_lists \n",
    "import copy\n",
    "answer=[[1]]\n",
    "for i in range(2, n+1):\n",
    "    t1=[i]*((2*i)-3) #[2]\n",
    "    t2 = [i]*((2*i)-3) #copy.deepcopy(t1)\n",
    "    answer.insert(0, t1)\n",
    "    answer.append(t2)\n",
    "    for a in answer:\n",
    "        a.insert(0,i)\n",
    "        a.append(i)\n",
    "        \n",
    "answerfinal=[]\n",
    "\n",
    "#we join the elements of the string without space\n",
    "for a in answer:\n",
    "    answerfinal.append(''.join(str(e) for e in a))\n",
    "#print \n",
    "for a in answerfinal:\n",
    "    print(a)"
   ]
  },
  {
   "cell_type": "code",
   "execution_count": 18,
   "metadata": {},
   "outputs": [
    {
     "name": "stdout",
     "output_type": "stream",
     "text": [
      "hello world\n",
      "Hello_World\n"
     ]
    }
   ],
   "source": [
    "#add underscore in place of spaces and also capitalise the letters properly,\n",
    "s = input()\n",
    "words = s.split(' ')\n",
    "final_list = [word.title() for word in words]\n",
    "final_list = '_'.join(final_list)\n",
    "print(final_list)"
   ]
  },
  {
   "cell_type": "code",
   "execution_count": 20,
   "metadata": {},
   "outputs": [
    {
     "name": "stdout",
     "output_type": "stream",
     "text": [
      "abbccdd\n",
      "aabbccdd\n",
      "a\n"
     ]
    }
   ],
   "source": [
    "#Input:\n",
    "#Two strings on two separate lines. \n",
    "#Output:\n",
    "#One Character which is extra in one of the strings\n",
    "\n",
    "str1 = input()\n",
    "str2 = input()\n",
    "\n",
    "longerString = str1\n",
    "shorterString = str2\n",
    "\n",
    "if len(str1)< len(str2):\n",
    "    longerString = str2\n",
    "    shorterString = str1\n",
    "    \n",
    "for i in range(len(longerString)):\n",
    "    if shorterString.count(longerString[i])!=longerString.count(longerString[i]):\n",
    "        print(longerString[i])\n",
    "        break\n"
   ]
  },
  {
   "cell_type": "code",
   "execution_count": 32,
   "metadata": {},
   "outputs": [
    {
     "name": "stdout",
     "output_type": "stream",
     "text": [
      "abcd\n",
      "abcd\n"
     ]
    }
   ],
   "source": [
    "#move vowels to starting\n",
    "s = input()\n",
    "vowels = 'aeiouAEIOU'\n",
    "v =''\n",
    "c =''\n",
    "for i in s:\n",
    "    if i in vowels:\n",
    "        v = v+i\n",
    "    else:\n",
    "        c = c+i\n",
    "print(v+c)"
   ]
  },
  {
   "cell_type": "code",
   "execution_count": 24,
   "metadata": {},
   "outputs": [
    {
     "name": "stdout",
     "output_type": "stream",
     "text": [
      "Rejhdf\n",
      "rEjkjhsdf\n",
      "rej\n"
     ]
    }
   ],
   "source": [
    "#common prefix\n",
    "s1 = input()\n",
    "s2 = input()\n",
    "\n",
    "s1 = s1.lower()\n",
    "s2 = s2.lower()\n",
    "\n",
    "l = min(len(s1),len(s2))\n",
    "for i in range(l):\n",
    "    if s1[i]!=s2[i]:\n",
    "        break;\n",
    "\n",
    "if i==0:\n",
    "    print(-1)\n",
    "else:\n",
    "    print(s1[:i])"
   ]
  },
  {
   "cell_type": "code",
   "execution_count": 27,
   "metadata": {},
   "outputs": [
    {
     "name": "stdout",
     "output_type": "stream",
     "text": [
      "[10, 10, 10, 10, 10, 10, 10, 10, 10, 10]\n"
     ]
    },
    {
     "data": {
      "text/plain": [
       "10101010101010101010"
      ]
     },
     "execution_count": 27,
     "metadata": {},
     "output_type": "execute_result"
    }
   ],
   "source": [
    "l = [10]*10\n",
    "print(l)\n",
    "int(''.join(str(a) for a in l))"
   ]
  },
  {
   "cell_type": "code",
   "execution_count": 60,
   "metadata": {},
   "outputs": [
    {
     "name": "stdout",
     "output_type": "stream",
     "text": [
      "100000000\n"
     ]
    }
   ],
   "source": [
    "value = \"001,00,000000,    \"  \n",
    "\n",
    "num = value.strip(\" \").split(',')\n",
    "num = ''.join(num)\n",
    "print(int(num))"
   ]
  },
  {
   "cell_type": "code",
   "execution_count": 30,
   "metadata": {},
   "outputs": [
    {
     "name": "stdout",
     "output_type": "stream",
     "text": [
      "4\n",
      "[[4], [4, 4], [4, 4, 4], [4, 4, 4, 4]]\n",
      "['4', '44', '444', '4444']\n",
      "4936\n"
     ]
    }
   ],
   "source": [
    "#Write a program that computes the value of n+nn+nnn+nnnn+... nn...n\n",
    "#ntimes with a given number as the value of n.\n",
    "\n",
    "n= int(input())\n",
    "numberList=[]\n",
    "for i in range(1,n+1):\n",
    "    numberList.append([n]*i)\n",
    "print(numberList)\n",
    "finalNumbers = []\n",
    "for a in numberList:\n",
    "    finalNumbers.append(''.join(str(e) for e in a))\n",
    "print(finalNumbers)\n",
    "sum=0\n",
    "for a in finalNumbers:\n",
    "    sum=sum+int(a)\n",
    "print(sum)"
   ]
  },
  {
   "cell_type": "code",
   "execution_count": 138,
   "metadata": {},
   "outputs": [
    {
     "name": "stdout",
     "output_type": "stream",
     "text": [
      "['askjbkjfbjkascjas', 354]\n",
      "kcutlutpltukcmtkc\n"
     ]
    }
   ],
   "source": [
    "#shift alphabets in a string by a number\n",
    "lowerAlpha = \"abcdefghijklmnopqrstuvwxyz\"\n",
    "upperAlpha = \"ABCDEFGHIJKLMNOPQRSTUVWXYZ\"\n",
    "\n",
    "import ast\n",
    "input_str = input()\n",
    "input_list = ast.literal_eval(input_str)\n",
    "word = input_list[0]\n",
    "n = input_list[1]\n",
    "shifted = \"\"\n",
    "for i in word:\n",
    "    if i in lowerAlpha:\n",
    "        index = lowerAlpha.find(i)\n",
    "        index = (index-n)%26\n",
    "        shifted = shifted + lowerAlpha[index]\n",
    "        \n",
    "    else:\n",
    "        index = upperAlpha.find(i)\n",
    "        index = (index-n)%26\n",
    "        shifted = shifted + upperAlpha[index]\n",
    "\n",
    "print(shifted)"
   ]
  },
  {
   "cell_type": "code",
   "execution_count": 77,
   "metadata": {},
   "outputs": [
    {
     "name": "stdout",
     "output_type": "stream",
     "text": [
      "[4,2,4,1,5,2]\n",
      "[4, 2, 1, 5]\n"
     ]
    }
   ],
   "source": [
    "import ast\n",
    "mylist = ast.literal_eval(input())\n",
    "\n",
    "d ={}\n",
    "for item in mylist:\n",
    "    if item not in d:\n",
    "        d[item]=1\n",
    "    #else:\n",
    "     #   d[item]+=1\n",
    "print(list(d.keys()))"
   ]
  },
  {
   "cell_type": "code",
   "execution_count": 81,
   "metadata": {},
   "outputs": [
    {
     "name": "stdout",
     "output_type": "stream",
     "text": [
      "{ 'Pen': ['Gel', 'Ink', 'ball'], 'Mobile': ['Android', 'apple'] }\n",
      "['Pen_Gel', 'Pen_Ink', 'Pen_ball', 'Mobile_Android', 'Mobile_apple']\n"
     ]
    }
   ],
   "source": [
    "import ast\n",
    "input_dict = ast.literal_eval(input())\n",
    "\n",
    "final_list = []\n",
    "for key in input_dict:\n",
    "    for val in input_dict[key]:\n",
    "        final_list.append(key+\"_\"+val)\n",
    "print(final_list)"
   ]
  },
  {
   "cell_type": "code",
   "execution_count": 99,
   "metadata": {},
   "outputs": [
    {
     "name": "stdout",
     "output_type": "stream",
     "text": [
      "[2, 1, 4, 3, 1]\n",
      "False\n"
     ]
    }
   ],
   "source": [
    "str =\"$yrr$ssrsr%\"\n",
    "d ={}\n",
    "for item in str:\n",
    "    if item not in d:\n",
    "        d[item]=1\n",
    "    else:\n",
    "        d[item]+=1\n",
    "vals = list(d.values())\n",
    "\n",
    "print(vals)\n",
    "def isUpGradStr(vals):\n",
    "    for i in range(1,6):\n",
    "        if i not in vals:\n",
    "            return False\n",
    "    return True\n",
    "print(isUpGradStr(vals))\n",
    "    \n",
    "        "
   ]
  },
  {
   "cell_type": "code",
   "execution_count": 108,
   "metadata": {},
   "outputs": [
    {
     "name": "stdout",
     "output_type": "stream",
     "text": [
      "){[[]]}())()\n",
      "No\n"
     ]
    }
   ],
   "source": [
    "#brackets\n",
    "inp = input()\n",
    "stack = []\n",
    "\n",
    "for i in inp:\n",
    "    if len(stack) == 0:\n",
    "        stack.append(i)\n",
    "    else:\n",
    "        if i==')' and stack[-1]=='(':\n",
    "            stack.pop()\n",
    "        elif i=='}' and stack[-1]=='{':\n",
    "            stack.pop()\n",
    "        elif i==']' and stack[-1]=='[':\n",
    "            stack.pop()\n",
    "        else:\n",
    "            stack.append(i)\n",
    "\n",
    "#print(stack)\n",
    "if stack:\n",
    "    print(\"No\")\n",
    "else:\n",
    "    print(\"Yes\")"
   ]
  },
  {
   "cell_type": "code",
   "execution_count": 117,
   "metadata": {},
   "outputs": [
    {
     "name": "stdout",
     "output_type": "stream",
     "text": [
      "{'mobile1':10000, 'mobile2':11000, 'mobile3':13000, 'mobile4':9000, 'mobile5':15000, 'mobile6':16000, 'mobile7':17000, 'mobile8':18000, 'mobile9':19000}\n"
     ]
    },
    {
     "ename": "NameError",
     "evalue": "name 'minkey' is not defined",
     "output_type": "error",
     "traceback": [
      "\u001b[1;31m---------------------------------------------------------------------------\u001b[0m",
      "\u001b[1;31mNameError\u001b[0m                                 Traceback (most recent call last)",
      "\u001b[1;32m<ipython-input-117-220f16431760>\u001b[0m in \u001b[0;36m<module>\u001b[1;34m\u001b[0m\n\u001b[0;32m      3\u001b[0m \u001b[1;33m\u001b[0m\u001b[0m\n\u001b[0;32m      4\u001b[0m \u001b[0mminKey\u001b[0m \u001b[1;33m=\u001b[0m \u001b[0minput_dict\u001b[0m\u001b[1;33m.\u001b[0m\u001b[0mkeys\u001b[0m\u001b[1;33m\u001b[0m\u001b[1;33m\u001b[0m\u001b[0m\n\u001b[1;32m----> 5\u001b[1;33m \u001b[0mminval\u001b[0m \u001b[1;33m=\u001b[0m \u001b[0minput_dict\u001b[0m\u001b[1;33m[\u001b[0m\u001b[0mminkey\u001b[0m\u001b[1;33m[\u001b[0m\u001b[1;36m0\u001b[0m\u001b[1;33m]\u001b[0m\u001b[1;33m]\u001b[0m\u001b[1;33m\u001b[0m\u001b[1;33m\u001b[0m\u001b[0m\n\u001b[0m\u001b[0;32m      6\u001b[0m \u001b[0mprint\u001b[0m\u001b[1;33m(\u001b[0m\u001b[0mminval\u001b[0m\u001b[1;33m)\u001b[0m\u001b[1;33m\u001b[0m\u001b[1;33m\u001b[0m\u001b[0m\n\u001b[0;32m      7\u001b[0m \u001b[0mprint\u001b[0m\u001b[1;33m(\u001b[0m\u001b[0mminkey\u001b[0m\u001b[1;33m)\u001b[0m\u001b[1;33m\u001b[0m\u001b[1;33m\u001b[0m\u001b[0m\n",
      "\u001b[1;31mNameError\u001b[0m: name 'minkey' is not defined"
     ]
    }
   ],
   "source": [
    "import ast\n",
    "input_dict = ast.literal_eval(input())\n",
    "\n",
    "for keys in input_dict:\n",
    "    if input_dict[key]<minval"
   ]
  },
  {
   "cell_type": "code",
   "execution_count": 142,
   "metadata": {},
   "outputs": [
    {
     "name": "stdout",
     "output_type": "stream",
     "text": [
      "abaann\n",
      "banana\n",
      "True\n"
     ]
    }
   ],
   "source": [
    "#anagrams\n",
    "s1 = input()\n",
    "s2 = input()\n",
    "\n",
    "def anagrams(s1,s2):\n",
    "    if len(s1)!=len(s2):\n",
    "        return False\n",
    "    for i in range(len(s1)):\n",
    "        if s1.count(s1[i]) != s2.count(s1[i]):\n",
    "            return False\n",
    "    return True\n",
    "\n",
    "print(anagrams(s1,s2))"
   ]
  },
  {
   "cell_type": "code",
   "execution_count": 176,
   "metadata": {},
   "outputs": [
    {
     "name": "stdout",
     "output_type": "stream",
     "text": [
      "{'mobile1':10000, 'mobile2':11000, 'mobile3':13000, 'mobile4':9000, 'mobile5':15000, 'mobile6':16000, 'mobile7':17000, 'mobile8':18000, 'mobile9':19000}\n",
      "smaller\n",
      "mobile4:9000\n"
     ]
    }
   ],
   "source": [
    "#cheapest item in dictionary\n",
    "#input_dict ={'mobile1':10000, 'mobile2':11000, 'mobile3':13000, 'mobile4':9000, 'mobile5':15000, 'mobile6':16000, 'mobile7':17000, 'mobile8':18000, 'mobile9':19000}\n",
    "\n",
    "#method 1\n",
    "import ast\n",
    "input_dict = ast.literal_eval(input())\n",
    "keys = list(input_dict.keys())\n",
    "minimum = input_dict[keys[0]]\n",
    "minkey = keys[0]\n",
    "for i in range(1,len(keys)):\n",
    "    if input_dict[keys[i]] < minimum:\n",
    "        minimum = input_dict[keys[i]]\n",
    "        minkey =keys[i]\n",
    "        \n",
    "print(\"{}:{}\".format(minkey,input_dict[minkey]))"
   ]
  },
  {
   "cell_type": "code",
   "execution_count": 31,
   "metadata": {},
   "outputs": [
    {
     "name": "stdout",
     "output_type": "stream",
     "text": [
      "{'mobile1':10000, 'mobile2':11000, 'mobile3':13000, 'mobile4':9000, 'mobile5':15000, 'mobile6':16000, 'mobile7':17000, 'mobile8':18000, 'mobile9':19000}\n",
      "mobile4: 9000\n"
     ]
    }
   ],
   "source": [
    "#method 2\n",
    "import ast\n",
    "input_dict = ast.literal_eval(input())\n",
    "minvalue = min(input_dict.values())\n",
    "\n",
    "for k,v in input_dict.items():\n",
    "    if v == minvalue:\n",
    "        print(\"{}: {}\".format(k,v))\n",
    "        break"
   ]
  },
  {
   "cell_type": "code",
   "execution_count": 33,
   "metadata": {},
   "outputs": [
    {
     "name": "stdout",
     "output_type": "stream",
     "text": [
      "[{'garden1':'Roses'},{'garden2':'Lilies'},{'garden3':'Roses'},{'garden4':'Mangoes'}]\n",
      "3\n"
     ]
    }
   ],
   "source": [
    "#Unique values\n",
    "#Write Python code to find all unique values in a given list of key-value pairs.\n",
    "#The input would be a list of key-value pairs and you have to print the number of unique values as output.\n",
    "#Note: 'Roses' and 'roses' will be treated as different values.\n",
    "#Sample Input:\n",
    "#[{'garden1':'Roses'},{'garden2':'Lilies'},{'garden3':'Roses'},{'garden4':'Mangoes'}]\n",
    "#Sample Output:\n",
    "#3\n",
    "import ast\n",
    "input_dict = ast.literal_eval(input())\n",
    "list_a = [{'garden1':'Roses'},{'garden2':'Lilies'},{'garden3':'Roses'},{'garden4':'Mangoes'}]\n",
    "values = []\n",
    "for d in input_dict:\n",
    "    for k in d.keys():\n",
    "        values.append(d[k])\n",
    "#[values.append(d[k]) for d in list_a for k in d.keys()]\n",
    "print(len(set(values))) \n"
   ]
  },
  {
   "cell_type": "code",
   "execution_count": 20,
   "metadata": {},
   "outputs": [
    {
     "name": "stdout",
     "output_type": "stream",
     "text": [
      "('mobile4', 9000)\n"
     ]
    }
   ],
   "source": [
    "d = {'mobile1':10000, 'mobile2':11000, 'mobile3':13000, 'mobile4':9000, 'mobile5':15000, 'mobile6':16000, 'mobile7':17000, 'mobile8':18000, 'mobile9':19000}\n",
    "min(d) # returns m0in key , tune this to return key based on min values\n",
    "min(d,key = d.get)\n",
    "print(\"{}\".format(min(d.items(),key = lambda k:k[1])))"
   ]
  },
  {
   "cell_type": "code",
   "execution_count": 185,
   "metadata": {},
   "outputs": [
    {
     "name": "stdout",
     "output_type": "stream",
     "text": [
      "0\n"
     ]
    }
   ],
   "source": [
    "#find maxdistance between two same elements\n",
    "input_list = [1, 2, 3, 10, 5, 16, 11, 4, 6, 12, 7, 8, 14]\n",
    "\n",
    "def findMaxDistance(input_list):\n",
    "    map_dict = {}\n",
    "    maxDistance = 0\n",
    "    for i in range(len(input_list)):\n",
    "        if input_list[i] not in map_dict.keys():\n",
    "            map_dict[input_list[i]] = i\n",
    "        else:\n",
    "            maxDistance = max(maxDistance,i-map_dict[input_list[i]])\n",
    "    return maxDistance\n",
    "\n",
    "print(findMaxDistance(input_list))"
   ]
  },
  {
   "cell_type": "code",
   "execution_count": 3,
   "metadata": {},
   "outputs": [
    {
     "name": "stdout",
     "output_type": "stream",
     "text": [
      "[\"pasta\",\"pasta\",\"pasta\",\"pasta\",\"pasta\",\"paratha\",\"paratha\",\"paratha\",\"paratha\",\"paratha\"]\n",
      "NOTA\n"
     ]
    }
   ],
   "source": [
    "#food item vote - item which gets 1 more than half of the vote wins\n",
    "import ast\n",
    "input_list = ast.literal_eval(input())\n",
    "food_dict = {}\n",
    "\n",
    "#create dict of item and its count\n",
    "\n",
    "def getMaxVotedItem(input_list):\n",
    "    for item in input_list:\n",
    "        if item not in food_dict.keys():\n",
    "            food_dict[item] = 1\n",
    "        else:\n",
    "            food_dict[item]+=1\n",
    "    numberOfVotes = len(input_list)\n",
    "    winner =\"NOTA\"\n",
    "    for item in food_dict:\n",
    "        if food_dict[item] >= (numberOfVotes//2 + 1):\n",
    "            winner = item\n",
    "    return(winner)\n",
    "\n",
    "\n",
    "print(getMaxVotedItem(input_list))\n",
    "\n",
    "#[\"pasta\",\"pasta\",\"pasta\",\"pasta\",\"pasta\",\"paratha\",\"paratha\",\"paratha\",\"paratha\",\"paratha\"]"
   ]
  },
  {
   "cell_type": "code",
   "execution_count": 17,
   "metadata": {},
   "outputs": [
    {
     "name": "stdout",
     "output_type": "stream",
     "text": [
      "{'Fruit': 3, 'Vegetable': {'Cabbage': 2, 'Cauliflower': 1}, 'Spices': 4}\n",
      "['Fruit', 'Spices', 'Vegetable_Cabbage', 'Vegetable_Cauliflower']\n",
      "[1, 2, 3, 4]\n"
     ]
    }
   ],
   "source": [
    "# flatten a nested dictionary and join the nested keys with the \"_\" character.\n",
    "#The output should have two lists. \n",
    "#The first list will have keys and the second list should have values. \n",
    "#Both lists should be sorted.\n",
    "#{'Fruit': 3, 'Vegetable': {'Cabbage': 2, 'Cauliflower': 2}, 'Spices': 4}\n",
    "\n",
    "import ast,sys\n",
    "import ast\n",
    "input_dict = ast.literal_eval(input())\n",
    "\n",
    "def flatten_dict(dd, separator='_', prefix=''):\n",
    "    #complete this function\n",
    "    out_dict = {}\n",
    "    for item in dd:\n",
    "        if isinstance(dd[item],dict):\n",
    "            for item2 in dd[item]:\n",
    "                key = item+separator+item2\n",
    "                out_dict[key]=dd[item][item2]\n",
    "        else:\n",
    "            out_dict[item]=dd[item]\n",
    "    return(out_dict)\n",
    "\n",
    "out1=list(flatten_dict(input_dict).keys())\n",
    "out2=list(flatten_dict(input_dict).values())\n",
    "out1.sort()\n",
    "out2.sort()\n",
    "print(out1)\n",
    "print(out2)"
   ]
  },
  {
   "cell_type": "code",
   "execution_count": 19,
   "metadata": {},
   "outputs": [
    {
     "ename": "SyntaxError",
     "evalue": "unexpected EOF while parsing (<unknown>, line 0)",
     "output_type": "error",
     "traceback": [
      "Traceback \u001b[1;36m(most recent call last)\u001b[0m:\n",
      "  File \u001b[0;32m\"C:\\Users\\Getene\\Anaconda3\\lib\\site-packages\\IPython\\core\\interactiveshell.py\"\u001b[0m, line \u001b[0;32m3267\u001b[0m, in \u001b[0;35mrun_code\u001b[0m\n    exec(code_obj, self.user_global_ns, self.user_ns)\n",
      "  File \u001b[0;32m\"<ipython-input-19-761a1c38c40f>\"\u001b[0m, line \u001b[0;32m4\u001b[0m, in \u001b[0;35m<module>\u001b[0m\n    input_dict = dict(ast.literal_eval(input_str))\n",
      "  File \u001b[0;32m\"C:\\Users\\Getene\\Anaconda3\\lib\\ast.py\"\u001b[0m, line \u001b[0;32m46\u001b[0m, in \u001b[0;35mliteral_eval\u001b[0m\n    node_or_string = parse(node_or_string, mode='eval')\n",
      "\u001b[1;36m  File \u001b[1;32m\"C:\\Users\\Getene\\Anaconda3\\lib\\ast.py\"\u001b[1;36m, line \u001b[1;32m35\u001b[1;36m, in \u001b[1;35mparse\u001b[1;36m\u001b[0m\n\u001b[1;33m    return compile(source, filename, mode, PyCF_ONLY_AST)\u001b[0m\n",
      "\u001b[1;36m  File \u001b[1;32m\"<unknown>\"\u001b[1;36m, line \u001b[1;32munknown\u001b[0m\n\u001b[1;33m    \u001b[0m\n\u001b[1;37m    ^\u001b[0m\n\u001b[1;31mSyntaxError\u001b[0m\u001b[1;31m:\u001b[0m unexpected EOF while parsing\n"
     ]
    }
   ],
   "source": [
    "#suggested soln\n",
    "import ast,sys\n",
    "input_str = sys.stdin.read()\n",
    "input_dict = dict(ast.literal_eval(input_str))\n",
    "def flatten_dict(d):\n",
    "    def expand(key, value):\n",
    "        if isinstance(value, dict):\n",
    "            return [ (key + '_' + k, v) for k, v in flatten_dict(value).items() ]\n",
    "        else:\n",
    "            return [ (key, value) ]\n",
    "\n",
    "    items = [ item for k, v in d.items() for item in expand(k, v) ]\n",
    "\n",
    "    return dict(items)\n",
    "\n",
    "out1=list(flatten_dict(input_dict).keys())\n",
    "out2=list(flatten_dict(input_dict).values())\n",
    "out1.sort()\n",
    "out2.sort()\n",
    "print(out1)\n",
    "print(out2)"
   ]
  },
  {
   "cell_type": "code",
   "execution_count": 41,
   "metadata": {},
   "outputs": [
    {
     "name": "stdout",
     "output_type": "stream",
     "text": [
      "           87\n",
      "87\n",
      "INT\n"
     ]
    }
   ],
   "source": [
    "#Input:\n",
    "#A single line of string\n",
    "\n",
    "#Output:\n",
    "#INT if the input string is an integer and STR otherwise.\n",
    "\n",
    "in_str=input()\n",
    "foundStr = 0\n",
    "in_str = in_str.lstrip()\n",
    "print(in_str)\n",
    "for i in range(len(in_str)):\n",
    "    if i==0 and in_str[i]=='-':\n",
    "        continue\n",
    "    if not (in_str[i].isdigit()):\n",
    "        foundStr = 1\n",
    "        break\n",
    "\n",
    "if foundStr == 1:\n",
    "    print(\"STR\")\n",
    "else:\n",
    "    print(\"INT\")\n"
   ]
  },
  {
   "cell_type": "code",
   "execution_count": 45,
   "metadata": {},
   "outputs": [
    {
     "name": "stdout",
     "output_type": "stream",
     "text": [
      "-23\n",
      "-23\n"
     ]
    },
    {
     "data": {
      "text/plain": [
       "'INT'"
      ]
     },
     "execution_count": 45,
     "metadata": {},
     "output_type": "execute_result"
    }
   ],
   "source": [
    "in_str=input().strip()\n",
    "foundStr = 0\n",
    "print(in_str)\n",
    "def INT(a):\n",
    "    try:\n",
    "        int(a)\n",
    "        return(\"INT\")\n",
    "    except:\n",
    "        return(\"STR\")\n",
    "INT(in_str)"
   ]
  },
  {
   "cell_type": "code",
   "execution_count": 52,
   "metadata": {},
   "outputs": [
    {
     "name": "stdout",
     "output_type": "stream",
     "text": [
      "89.           \n",
      "89.           \n",
      "STR\n"
     ]
    }
   ],
   "source": [
    "a=input()\n",
    "foundStr = 0\n",
    "a = a.lstrip()\n",
    "print(a)\n",
    "if a.isdigit() or a.startswith('-') and a[1:].isdigit():\n",
    "    print(\"INT\")\n",
    "else:\n",
    "    print(\"STR\")"
   ]
  },
  {
   "cell_type": "code",
   "execution_count": 13,
   "metadata": {},
   "outputs": [
    {
     "name": "stdout",
     "output_type": "stream",
     "text": [
      "15,2,3,1\n",
      "10\n"
     ]
    }
   ],
   "source": [
    "#Earlier you solved the chocolate problem where Sanjay had m rupees and cost of each chocolate was c rupees. \n",
    "#Shopkeeper gave away one chocolate for three wrappers. In this problem lets generalise the question saying, \n",
    "#Sanjay has m rupees, each chocolate costs c rupees, shopkeeper will give away k chocolates for w wrappers. \n",
    "#Can you find now how many chocolates Sanjay will be able to eat?\n",
    "\n",
    "#Input: 4 integers separated by space in order m, c, w, k\n",
    "#integers c and w will be >0\n",
    "#integers m and k will be >=0\n",
    "#integer k will be <w\n",
    "#Output: An integer denoting number of chocolates Sanjay will be able to get.\n",
    "\n",
    "input_str = input()\n",
    "input_numbers = input_str.split(',')\n",
    "m = int(input_numbers[0])\n",
    "c = int(input_numbers[1])\n",
    "w = int(input_numbers[2])\n",
    "k = int(input_numbers[3])\n",
    "\n",
    "def wrapper_to_cho(no_of_wrapper, w, k) :\n",
    "    #print(\"no_of_wrapper= {},w = {},k = {}\".format(no_of_wrapper,w,k))\n",
    "    if (no_of_wrapper//w < k ):\n",
    "        return 0\n",
    "    else:\n",
    "        return round(no_of_wrapper*(k/w))+ wrapper_to_cho(no_of_wrapper*(k//w),w,k)\n",
    "    \n",
    "    \n",
    "no_of_cho =  m//c\n",
    "#print(no_of_cho)\n",
    "no_of_wrapper = no_of_cho\n",
    "while no_of_wrapper >= w:\n",
    "    no_of_cho = no_of_cho + (no_of_wrapper//w)*k\n",
    "    no_of_wrapper = (no_of_wrapper//w)*k + no_of_wrapper%w\n",
    "    \n",
    "\n",
    "\n",
    "#new_cho = wrapper_to_cho(no_of_wrapper, w, k)\n",
    "#print(new_cho)\n",
    "#print(\"orig_cho= {},new_cho = {},total = {}\".format(no_of_cho,new_cho,no_of_cho+new_cho))\n",
    "print(no_of_cho)\n",
    "\n",
    "\n"
   ]
  },
  {
   "cell_type": "code",
   "execution_count": null,
   "metadata": {},
   "outputs": [],
   "source": [
    "choc = m//c\n",
    "w = m//c\n",
    "\n",
    "while w//3!=0:\n",
    "    choc = choc + w//3\n",
    "    w = w//3 + w%3\n",
    "print(choc)"
   ]
  },
  {
   "cell_type": "code",
   "execution_count": null,
   "metadata": {},
   "outputs": [],
   "source": [
    "input_str = input()\n",
    "input_numbers = input_str.split(',')\n",
    "m = int(input_numbers[0])\n",
    "c = int(input_numbers[1])\n",
    "w = int(input_numbers[2])\n",
    "k = int(input_numbers[3])\n",
    "\n",
    "def wrapper_to_cho(no_of_wrapper, w, k) :\n",
    "    print(\"no_of_wrapper= {},w = {},k = {}\".format(no_of_wrapper,w,k))\n",
    "    if (no_of_wrapper < w ):\n",
    "        return 0\n",
    "    else:\n",
    "        #return round(no_of_wrapper*(k/w)) + wrapper_to_cho(round(no_of_wrapper*(k/w))+((no_of_wrapper*(k/w)) % w),w,k)\n",
    "        return round((no_of_wrapper//w)*k) + wrapper_to_cho((no_of_wrapper//w)*k+(no_of_wrapper% w),w,k)\n",
    "       \n",
    "no_of_cho = m//c\n",
    "#print(no_of_cho)\n",
    "no_of_wrapper = no_of_cho\n",
    "new_cho = wrapper_to_cho(no_of_wrapper, w, k)\n",
    "print(no_of_cho+new_cho)"
   ]
  },
  {
   "cell_type": "code",
   "execution_count": 18,
   "metadata": {},
   "outputs": [
    {
     "name": "stdout",
     "output_type": "stream",
     "text": [
      "0\n",
      "3\n",
      "6\n",
      "9\n"
     ]
    }
   ],
   "source": [
    "n=10\n",
    "for i in range(0, n, int(n**0.5)):\n",
    "    print(i)"
   ]
  },
  {
   "cell_type": "code",
   "execution_count": 74,
   "metadata": {},
   "outputs": [
    {
     "name": "stdout",
     "output_type": "stream",
     "text": [
      "[3, 2, 1, 3]\n",
      "2\n"
     ]
    }
   ],
   "source": [
    "#Tallest trees\n",
    "#Description\n",
    "#You have already heard the saying, tallest trees are cut first. This is the question on same saying. From the lot of trees, find out how many trees will be cut.\n",
    "\n",
    "#Input: A list of positive integers, denoting the sizes of trees\n",
    "\n",
    "#Output: An integer denoting how many trees will get cut.\n",
    "#Sample input: [3, 2, 1, 3]\n",
    "\n",
    "#Sample output:2\n",
    "import ast\n",
    "input_list = ast.literal_eval(input())\n",
    "print(input_list.count(max(input_list)))\n",
    "\n"
   ]
  },
  {
   "cell_type": "code",
   "execution_count": 79,
   "metadata": {},
   "outputs": [
    {
     "data": {
      "text/plain": [
       "3"
      ]
     },
     "execution_count": 79,
     "metadata": {},
     "output_type": "execute_result"
    }
   ],
   "source": [
    "#method 2\n",
    "l = [3, 2, 1, 3,2,2,2]\n",
    "from collections import Counter\n",
    "a = Counter(l)\n",
    "max(a.items(), key = lambda k:k[0])[0]"
   ]
  },
  {
   "cell_type": "code",
   "execution_count": 2,
   "metadata": {},
   "outputs": [
    {
     "name": "stdout",
     "output_type": "stream",
     "text": [
      "dict_values([2, 4, 1])\n"
     ]
    }
   ],
   "source": [
    "l = [3, 2, 1, 3,2,2,2]\n",
    "from collections import Counter\n",
    "a = Counter(l)\n",
    "print(a.values())"
   ]
  },
  {
   "cell_type": "code",
   "execution_count": 9,
   "metadata": {},
   "outputs": [
    {
     "name": "stdout",
     "output_type": "stream",
     "text": [
      "1.9\n",
      "2\n"
     ]
    }
   ],
   "source": [
    "#Sub-lists containing a given element\n",
    "#Write Python code to print the number of sub-lists in a list, containing a given element.\n",
    "#Hint: You could use list comprehensions to avoid lengthy code\n",
    "#Sample Input:\n",
    "#[[\"mumbai\",\"pune\",\"goa\"], [\"goa\",\"mumbai\", \"satara\"], [1, 3, 5, 7, 9]]\n",
    "\n",
    "list_a = [[\"mumbai\",\"pune\",\"goa\",\"1.9\"], [\"goa\",\"mumbai\", \"satara\",1.9], [1, 3, 5, 7, 9,\"pune\"]]\n",
    "key = input()\n",
    "number = 0\n",
    "for i in list_a:\n",
    "    for j in i:\n",
    "        if str(j) == str(key):\n",
    "            number+=1\n",
    "print(number)\n",
    "            "
   ]
  },
  {
   "cell_type": "code",
   "execution_count": 29,
   "metadata": {},
   "outputs": [
    {
     "name": "stdout",
     "output_type": "stream",
     "text": [
      "[1,10,2,5]\n",
      "1\n"
     ]
    }
   ],
   "source": [
    "#Divisibility\n",
    "#Consider that m,n,x and y are four positive integers.\n",
    "#Your task is to find all integers between m and n(including m and n) that are divisible by x and y.\n",
    "#The input will contain four lines with m,n,x and y in the same order. The output should contain the number of positive integers \n",
    "#divisible by x and y between m and n.\n",
    "#Sample Input:\n",
    "#1\n",
    "#6\n",
    "#2\n",
    "#3\n",
    "#Sample Output:\n",
    "#1\n",
    "import ast,sys\n",
    "input_str = sys.stdin.read()\n",
    "input_list = ast.literal_eval(input())\n",
    "m = input_list[0]\n",
    "n = input_list[1]\n",
    "x = input_list[2]\n",
    "y = input_list[3]\n",
    "\n",
    "numbers = 0\n",
    "for i in range(m,n+1):\n",
    "    if i%x == 0 and i%y == 0:\n",
    "        numbers+=1\n",
    "print(numbers)"
   ]
  },
  {
   "cell_type": "markdown",
   "metadata": {},
   "source": [
    "### Description\n",
    "Given a sentence as a string, capitalise the first letter of every word. Output the final sentence after capitalising.\n",
    "\n",
    "Hint: Since strings are immutable, you need to output a new string.\n",
    "\n",
    "Example:\n",
    "Input 1:\n",
    "\n",
    "I am now a master of Logistic regression\n",
    "\n",
    "Output 1:\n",
    "\n",
    "I Am Now A Master Of Logistic Regression"
   ]
  },
  {
   "cell_type": "code",
   "execution_count": 9,
   "metadata": {},
   "outputs": [
    {
     "name": "stdout",
     "output_type": "stream",
     "text": [
      "asjdh      laskdj   k\n",
      "Asjdh      Laskdj   K\n"
     ]
    }
   ],
   "source": [
    "# Read the input string\n",
    "input_string = input()\n",
    "\n",
    "words = [word.title() for word in input_string.split(' ')]\n",
    "out_string = (' ').join(words)\n",
    "print(out_string)\n"
   ]
  },
  {
   "cell_type": "markdown",
   "metadata": {},
   "source": [
    "#### Second Maximum Number in a List\n",
    "Description\n",
    "Given a list of numbers, find the second largest number in the list.\n",
    "\n",
    "Note: There might be repeated numbers in the list. If there is only one number present in the list, return 'not present'.\n",
    "\n",
    "Examples:\n",
    "Input 1:\n",
    "[7, 2, 0, 9, -1, 8]\n",
    "Output 1:\n",
    "8\n",
    "\n",
    "Input 2:\n",
    "[3, 1, 4, 4, 5, 5, 5, 0, 2, 2]\n",
    "Output 2:\n",
    "4\n",
    "\n",
    "Input 2:\n",
    "[6, 6, 6, 6, 6]\n",
    "Output 2:\n",
    "not present"
   ]
  },
  {
   "cell_type": "code",
   "execution_count": 32,
   "metadata": {},
   "outputs": [
    {
     "name": "stdout",
     "output_type": "stream",
     "text": [
      "[6, 6, 6, 6, 6]\n",
      "not present\n"
     ]
    }
   ],
   "source": [
    "# Read the input list\n",
    "import ast\n",
    "input_list = ast.literal_eval(input())\n",
    "numbers_set = list(set(input_list))\n",
    "numbers_set.sort()\n",
    "if(len(numbers_set) < 2):\n",
    "    print(\"not present\")\n",
    "else:\n",
    "    print(numbers_set[-2])"
   ]
  },
  {
   "cell_type": "code",
   "execution_count": null,
   "metadata": {},
   "outputs": [],
   "source": []
  }
 ],
 "metadata": {
  "kernelspec": {
   "display_name": "Python 3",
   "language": "python",
   "name": "python3"
  },
  "language_info": {
   "codemirror_mode": {
    "name": "ipython",
    "version": 3
   },
   "file_extension": ".py",
   "mimetype": "text/x-python",
   "name": "python",
   "nbconvert_exporter": "python",
   "pygments_lexer": "ipython3",
   "version": "3.7.7"
  }
 },
 "nbformat": 4,
 "nbformat_minor": 2
}
